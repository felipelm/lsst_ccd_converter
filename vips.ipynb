{
 "cells": [
  {
   "cell_type": "code",
   "execution_count": 8,
   "metadata": {},
   "outputs": [],
   "source": [
    "import glob\n",
    "exps = glob.glob(\n",
    "    '/home/felipe/repos/lsst/lsst_image/data_repo/calexp/00193824-g/R*/calexp*')"
   ]
  },
  {
   "cell_type": "code",
   "execution_count": 9,
   "metadata": {},
   "outputs": [
    {
     "data": {
      "text/plain": [
       "array([[ 21.43434  ,  25.855232 ,  23.600864 , ..., -37.95301  ,\n",
       "          5.5549316, -29.313683 ],\n",
       "       [ 10.961034 , -13.200992 ,   3.8297935, ..., -32.597256 ,\n",
       "        -21.848322 ,   0.7908462],\n",
       "       [-16.856413 ,  -5.94584  ,  32.59416  , ...,  -0.3014678,\n",
       "        -42.806408 ,  17.77789  ],\n",
       "       ...,\n",
       "       [ -9.817891 , -44.7847   , -40.13868  , ...,  20.95981  ,\n",
       "          3.48737  ,  -7.5197015],\n",
       "       [-10.260229 ,  29.000347 ,  29.0997   , ...,  23.369524 ,\n",
       "         -5.684033 ,   1.9680734],\n",
       "       [-25.164816 ,   5.5499506,  -7.057362 , ...,  -8.439723 ,\n",
       "         41.780155 ,  21.665598 ]], dtype=float32)"
      ]
     },
     "execution_count": 9,
     "metadata": {},
     "output_type": "execute_result"
    }
   ],
   "source": [
    "from astropy.io import fits\n",
    "ccd = fits.open(exps[0], memmap=True)\n",
    "imgccd = ccd[1].data\n",
    "imgccd"
   ]
  },
  {
   "cell_type": "code",
   "execution_count": 10,
   "metadata": {},
   "outputs": [
    {
     "data": {
      "text/plain": [
       "(4000.0, 4072.0)"
      ]
     },
     "execution_count": 10,
     "metadata": {},
     "output_type": "execute_result"
    }
   ],
   "source": [
    "import numpy as np\n",
    "\n",
    "sizes = np.shape(imgccd)\n",
    "height = float(sizes[0])\n",
    "width = float(sizes[1])\n",
    "height, width"
   ]
  },
  {
   "cell_type": "code",
   "execution_count": 11,
   "metadata": {},
   "outputs": [
    {
     "data": {
      "text/plain": [
       "<pyvips.Image 4072x4000 double, 1 bands, matrix>"
      ]
     },
     "execution_count": 11,
     "metadata": {},
     "output_type": "execute_result"
    }
   ],
   "source": [
    "import pyvips\n",
    "\n",
    "vips=pyvips.Image.new_from_array(imgccd.tolist())\n",
    "vips"
   ]
  },
  {
   "cell_type": "code",
   "execution_count": 12,
   "metadata": {},
   "outputs": [],
   "source": [
    "outputdir='./exps'\n",
    "vips.tiffsave(\"{}/{}.tif\".format(outputdir, 'test'), tile=True, tile_width=256, tile_height=256, pyramid=True, bigtiff=True, compression='deflate')"
   ]
  },
  {
   "cell_type": "code",
   "execution_count": 15,
   "metadata": {},
   "outputs": [],
   "source": [
    "from PIL import Image, ImageOps\n",
    "pil_img=Image.fromarray(imgccd)\n",
    "img_with_border = ImageOps.expand(pil_img,border=25,fill='grey')"
   ]
  },
  {
   "cell_type": "code",
   "execution_count": 16,
   "metadata": {},
   "outputs": [
    {
     "data": {
      "text/plain": [
       "array([[128., 128., 128., ..., 128., 128., 128.],\n",
       "       [128., 128., 128., ..., 128., 128., 128.],\n",
       "       [128., 128., 128., ..., 128., 128., 128.],\n",
       "       ...,\n",
       "       [128., 128., 128., ..., 128., 128., 128.],\n",
       "       [128., 128., 128., ..., 128., 128., 128.],\n",
       "       [128., 128., 128., ..., 128., 128., 128.]], dtype=float32)"
      ]
     },
     "execution_count": 16,
     "metadata": {},
     "output_type": "execute_result"
    }
   ],
   "source": [
    "np.array(img_with_border)"
   ]
  },
  {
   "cell_type": "code",
   "execution_count": 17,
   "metadata": {},
   "outputs": [
    {
     "data": {
      "text/plain": [
       "<pyvips.Image 4122x4050 double, 1 bands, matrix>"
      ]
     },
     "execution_count": 17,
     "metadata": {},
     "output_type": "execute_result"
    }
   ],
   "source": [
    "vips=pyvips.Image.new_from_array(np.array(img_with_border).tolist())\n",
    "vips\n",
    "# vips.tiffsave(\"{}/{}.tif\".format(outputdir, 'testBorder'), tile=True, tile_width=256, tile_height=256, pyramid=True, bigtiff=True, compression='deflate')\n"
   ]
  },
  {
   "cell_type": "code",
   "execution_count": 18,
   "metadata": {},
   "outputs": [],
   "source": [
    "outputdir='./exps'\n",
    "vips.tiffsave(\"{}/{}.tif\".format(outputdir, 'test'), tile=True, tile_width=256, tile_height=256, pyramid=True, bigtiff=True, compression='deflate')"
   ]
  },
  {
   "cell_type": "code",
   "execution_count": null,
   "metadata": {},
   "outputs": [],
   "source": []
  }
 ],
 "metadata": {
  "kernelspec": {
   "display_name": "Python 3",
   "language": "python",
   "name": "python3"
  },
  "language_info": {
   "codemirror_mode": {
    "name": "ipython",
    "version": 3
   },
   "file_extension": ".py",
   "mimetype": "text/x-python",
   "name": "python",
   "nbconvert_exporter": "python",
   "pygments_lexer": "ipython3",
   "version": "3.6.8"
  }
 },
 "nbformat": 4,
 "nbformat_minor": 2
}
