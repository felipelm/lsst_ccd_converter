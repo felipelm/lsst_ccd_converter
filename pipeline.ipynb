{
 "cells": [
  {
   "cell_type": "code",
   "execution_count": null,
   "metadata": {},
   "outputs": [],
   "source": [
    "import datetime\n",
    "import io\n",
    "start = datetime.datetime.now()\n",
    "\n",
    "import glob\n",
    "exps = glob.glob(\n",
    "    '/home/felipe/repos/lsst/lsst_image/data_repo/calexp/00193824-g/R*/calexp*')\n",
    "\n",
    "from astropy.io import fits\n",
    "ccd = fits.open(exps[0], memmap=True)\n",
    "imgccd = ccd[1].data\n",
    "\n",
    "from PIL import Image, ImageOps\n",
    "pil_img=Image.fromarray(imgccd)\n",
    "img_with_border = ImageOps.expand(pil_img,border=25,fill='grey')\n",
    "\n",
    "import numpy as np\n",
    "img_array = np.array(img_with_border)\n",
    "sizes = np.shape(imgccd)\n",
    "height = sizes[0]\n",
    "width = sizes[1]\n",
    "\n",
    "\n",
    "import tifffile\n",
    "with tifffile.TiffWriter('exps/temp2.tif', bigtiff=True) as tif:\n",
    "    for i in range(img_array.shape[0]):\n",
    "        tif.save(img_array[i], compress=8, tile=(1, 256, 256))\n",
    "\n",
    "end = datetime.datetime.now()\n",
    "'DONE: {}'.format(str(end-start))\n",
    "# img_array.shape[0]|"
   ]
  },
  {
   "cell_type": "code",
   "execution_count": 27,
   "metadata": {},
   "outputs": [
    {
     "data": {
      "text/plain": [
       "<module 'tifffile' from '/opt/conda/lib/python3.6/site-packages/tifffile/__init__.py'>"
      ]
     },
     "execution_count": 27,
     "metadata": {},
     "output_type": "execute_result"
    }
   ],
   "source": [
    "import tifffile\n",
    "tifffile"
   ]
  },
  {
   "cell_type": "code",
   "execution_count": 24,
   "metadata": {},
   "outputs": [
    {
     "ename": "TypeError",
     "evalue": "initializer for ctype 'char *' must be a cdata pointer, not _io.BytesIO",
     "output_type": "error",
     "traceback": [
      "\u001b[0;31m---------------------------------------------------------------------------\u001b[0m",
      "\u001b[0;31mTypeError\u001b[0m                                 Traceback (most recent call last)",
      "\u001b[0;32m<ipython-input-24-be850df3899b>\u001b[0m in \u001b[0;36m<module>\u001b[0;34m\u001b[0m\n\u001b[1;32m     23\u001b[0m \u001b[0;34m\u001b[0m\u001b[0m\n\u001b[1;32m     24\u001b[0m \u001b[0;31m# vips.tiffsave(\"{}/{}.tif\".format(outputdir, 'testB'), tile=True, tile_width=256, tile_height=256, pyramid=True, bigtiff=True, compression='deflate')\u001b[0m\u001b[0;34m\u001b[0m\u001b[0;34m\u001b[0m\u001b[0;34m\u001b[0m\u001b[0m\n\u001b[0;32m---> 25\u001b[0;31m \u001b[0mvips\u001b[0m\u001b[0;34m.\u001b[0m\u001b[0mtiffsave\u001b[0m\u001b[0;34m(\u001b[0m\u001b[0mbuf\u001b[0m\u001b[0;34m,\u001b[0m \u001b[0mtile\u001b[0m\u001b[0;34m=\u001b[0m\u001b[0;32mTrue\u001b[0m\u001b[0;34m,\u001b[0m \u001b[0mtile_width\u001b[0m\u001b[0;34m=\u001b[0m\u001b[0;36m256\u001b[0m\u001b[0;34m,\u001b[0m \u001b[0mtile_height\u001b[0m\u001b[0;34m=\u001b[0m\u001b[0;36m256\u001b[0m\u001b[0;34m,\u001b[0m \u001b[0mpyramid\u001b[0m\u001b[0;34m=\u001b[0m\u001b[0;32mTrue\u001b[0m\u001b[0;34m,\u001b[0m \u001b[0mbigtiff\u001b[0m\u001b[0;34m=\u001b[0m\u001b[0;32mTrue\u001b[0m\u001b[0;34m,\u001b[0m \u001b[0mcompression\u001b[0m\u001b[0;34m=\u001b[0m\u001b[0;34m'deflate'\u001b[0m\u001b[0;34m)\u001b[0m\u001b[0;34m\u001b[0m\u001b[0;34m\u001b[0m\u001b[0m\n\u001b[0m\u001b[1;32m     26\u001b[0m \u001b[0;31m# buf=vips.tiffsave_buffer(tile=True, tile_width=256, tile_height=256, pyramid=True, bigtiff=True, compression='deflate')\u001b[0m\u001b[0;34m\u001b[0m\u001b[0;34m\u001b[0m\u001b[0;34m\u001b[0m\u001b[0m\n\u001b[1;32m     27\u001b[0m \u001b[0;31m# buf.seek(0)\u001b[0m\u001b[0;34m\u001b[0m\u001b[0;34m\u001b[0m\u001b[0;34m\u001b[0m\u001b[0m\n",
      "\u001b[0;32m/opt/conda/lib/python3.6/site-packages/pyvips/vimage.py\u001b[0m in \u001b[0;36mcall_function\u001b[0;34m(*args, **kwargs)\u001b[0m\n\u001b[1;32m    802\u001b[0m         \u001b[0;34m@\u001b[0m\u001b[0m_add_doc\u001b[0m\u001b[0;34m(\u001b[0m\u001b[0mname\u001b[0m\u001b[0;34m)\u001b[0m\u001b[0;34m\u001b[0m\u001b[0;34m\u001b[0m\u001b[0m\n\u001b[1;32m    803\u001b[0m         \u001b[0;32mdef\u001b[0m \u001b[0mcall_function\u001b[0m\u001b[0;34m(\u001b[0m\u001b[0;34m*\u001b[0m\u001b[0margs\u001b[0m\u001b[0;34m,\u001b[0m \u001b[0;34m**\u001b[0m\u001b[0mkwargs\u001b[0m\u001b[0;34m)\u001b[0m\u001b[0;34m:\u001b[0m\u001b[0;34m\u001b[0m\u001b[0;34m\u001b[0m\u001b[0m\n\u001b[0;32m--> 804\u001b[0;31m             \u001b[0;32mreturn\u001b[0m \u001b[0mpyvips\u001b[0m\u001b[0;34m.\u001b[0m\u001b[0mOperation\u001b[0m\u001b[0;34m.\u001b[0m\u001b[0mcall\u001b[0m\u001b[0;34m(\u001b[0m\u001b[0mname\u001b[0m\u001b[0;34m,\u001b[0m \u001b[0mself\u001b[0m\u001b[0;34m,\u001b[0m \u001b[0;34m*\u001b[0m\u001b[0margs\u001b[0m\u001b[0;34m,\u001b[0m \u001b[0;34m**\u001b[0m\u001b[0mkwargs\u001b[0m\u001b[0;34m)\u001b[0m\u001b[0;34m\u001b[0m\u001b[0;34m\u001b[0m\u001b[0m\n\u001b[0m\u001b[1;32m    805\u001b[0m \u001b[0;34m\u001b[0m\u001b[0m\n\u001b[1;32m    806\u001b[0m         \u001b[0;32mreturn\u001b[0m \u001b[0mcall_function\u001b[0m\u001b[0;34m\u001b[0m\u001b[0;34m\u001b[0m\u001b[0m\n",
      "\u001b[0;32m/opt/conda/lib/python3.6/site-packages/pyvips/voperation.py\u001b[0m in \u001b[0;36mcall\u001b[0;34m(operation_name, *args, **kwargs)\u001b[0m\n\u001b[1;32m    174\u001b[0m                     \u001b[0;34m(\u001b[0m\u001b[0mflags\u001b[0m \u001b[0;34m&\u001b[0m \u001b[0m_REQUIRED\u001b[0m\u001b[0;34m)\u001b[0m \u001b[0;34m!=\u001b[0m \u001b[0;36m0\u001b[0m \u001b[0;32mand\u001b[0m\u001b[0;34m\u001b[0m\u001b[0;34m\u001b[0m\u001b[0m\n\u001b[1;32m    175\u001b[0m                     (flags & _DEPRECATED) == 0):\n\u001b[0;32m--> 176\u001b[0;31m                 \u001b[0mop\u001b[0m\u001b[0;34m.\u001b[0m\u001b[0mset\u001b[0m\u001b[0;34m(\u001b[0m\u001b[0mname\u001b[0m\u001b[0;34m,\u001b[0m \u001b[0mflags\u001b[0m\u001b[0;34m,\u001b[0m \u001b[0mmatch_image\u001b[0m\u001b[0;34m,\u001b[0m \u001b[0margs\u001b[0m\u001b[0;34m[\u001b[0m\u001b[0mn\u001b[0m\u001b[0;34m]\u001b[0m\u001b[0;34m)\u001b[0m\u001b[0;34m\u001b[0m\u001b[0;34m\u001b[0m\u001b[0m\n\u001b[0m\u001b[1;32m    177\u001b[0m                 \u001b[0mn\u001b[0m \u001b[0;34m+=\u001b[0m \u001b[0;36m1\u001b[0m\u001b[0;34m\u001b[0m\u001b[0;34m\u001b[0m\u001b[0m\n\u001b[1;32m    178\u001b[0m \u001b[0;34m\u001b[0m\u001b[0m\n",
      "\u001b[0;32m/opt/conda/lib/python3.6/site-packages/pyvips/voperation.py\u001b[0m in \u001b[0;36mset\u001b[0;34m(self, name, flags, match_image, value)\u001b[0m\n\u001b[1;32m     81\u001b[0m             \u001b[0mvalue\u001b[0m \u001b[0;34m=\u001b[0m \u001b[0mvalue\u001b[0m\u001b[0;34m.\u001b[0m\u001b[0mcopy\u001b[0m\u001b[0;34m(\u001b[0m\u001b[0;34m)\u001b[0m\u001b[0;34m.\u001b[0m\u001b[0mcopy_memory\u001b[0m\u001b[0;34m(\u001b[0m\u001b[0;34m)\u001b[0m\u001b[0;34m\u001b[0m\u001b[0;34m\u001b[0m\u001b[0m\n\u001b[1;32m     82\u001b[0m \u001b[0;34m\u001b[0m\u001b[0m\n\u001b[0;32m---> 83\u001b[0;31m         \u001b[0msuper\u001b[0m\u001b[0;34m(\u001b[0m\u001b[0mOperation\u001b[0m\u001b[0;34m,\u001b[0m \u001b[0mself\u001b[0m\u001b[0;34m)\u001b[0m\u001b[0;34m.\u001b[0m\u001b[0mset\u001b[0m\u001b[0;34m(\u001b[0m\u001b[0mname\u001b[0m\u001b[0;34m,\u001b[0m \u001b[0mvalue\u001b[0m\u001b[0;34m)\u001b[0m\u001b[0;34m\u001b[0m\u001b[0;34m\u001b[0m\u001b[0m\n\u001b[0m\u001b[1;32m     84\u001b[0m \u001b[0;34m\u001b[0m\u001b[0m\n\u001b[1;32m     85\u001b[0m     \u001b[0;32mdef\u001b[0m \u001b[0mget_flags\u001b[0m\u001b[0;34m(\u001b[0m\u001b[0mself\u001b[0m\u001b[0;34m)\u001b[0m\u001b[0;34m:\u001b[0m\u001b[0;34m\u001b[0m\u001b[0;34m\u001b[0m\u001b[0m\n",
      "\u001b[0;32m/opt/conda/lib/python3.6/site-packages/pyvips/vobject.py\u001b[0m in \u001b[0;36mset\u001b[0;34m(self, name, value)\u001b[0m\n\u001b[1;32m    108\u001b[0m         \u001b[0mgv\u001b[0m \u001b[0;34m=\u001b[0m \u001b[0mpyvips\u001b[0m\u001b[0;34m.\u001b[0m\u001b[0mGValue\u001b[0m\u001b[0;34m(\u001b[0m\u001b[0;34m)\u001b[0m\u001b[0;34m\u001b[0m\u001b[0;34m\u001b[0m\u001b[0m\n\u001b[1;32m    109\u001b[0m         \u001b[0mgv\u001b[0m\u001b[0;34m.\u001b[0m\u001b[0mset_type\u001b[0m\u001b[0;34m(\u001b[0m\u001b[0mgtype\u001b[0m\u001b[0;34m)\u001b[0m\u001b[0;34m\u001b[0m\u001b[0;34m\u001b[0m\u001b[0m\n\u001b[0;32m--> 110\u001b[0;31m         \u001b[0mgv\u001b[0m\u001b[0;34m.\u001b[0m\u001b[0mset\u001b[0m\u001b[0;34m(\u001b[0m\u001b[0mvalue\u001b[0m\u001b[0;34m)\u001b[0m\u001b[0;34m\u001b[0m\u001b[0;34m\u001b[0m\u001b[0m\n\u001b[0m\u001b[1;32m    111\u001b[0m         \u001b[0mgo\u001b[0m \u001b[0;34m=\u001b[0m \u001b[0mffi\u001b[0m\u001b[0;34m.\u001b[0m\u001b[0mcast\u001b[0m\u001b[0;34m(\u001b[0m\u001b[0;34m'GObject *'\u001b[0m\u001b[0;34m,\u001b[0m \u001b[0mself\u001b[0m\u001b[0;34m.\u001b[0m\u001b[0mpointer\u001b[0m\u001b[0;34m)\u001b[0m\u001b[0;34m\u001b[0m\u001b[0;34m\u001b[0m\u001b[0m\n\u001b[1;32m    112\u001b[0m         \u001b[0mgobject_lib\u001b[0m\u001b[0;34m.\u001b[0m\u001b[0mg_object_set_property\u001b[0m\u001b[0;34m(\u001b[0m\u001b[0mgo\u001b[0m\u001b[0;34m,\u001b[0m \u001b[0m_to_bytes\u001b[0m\u001b[0;34m(\u001b[0m\u001b[0mname\u001b[0m\u001b[0;34m)\u001b[0m\u001b[0;34m,\u001b[0m \u001b[0mgv\u001b[0m\u001b[0;34m.\u001b[0m\u001b[0mpointer\u001b[0m\u001b[0;34m)\u001b[0m\u001b[0;34m\u001b[0m\u001b[0;34m\u001b[0m\u001b[0m\n",
      "\u001b[0;32m/opt/conda/lib/python3.6/site-packages/pyvips/gvalue.py\u001b[0m in \u001b[0;36mset\u001b[0;34m(self, value)\u001b[0m\n\u001b[1;32m    168\u001b[0m             \u001b[0mgobject_lib\u001b[0m\u001b[0;34m.\u001b[0m\u001b[0mg_value_set_flags\u001b[0m\u001b[0;34m(\u001b[0m\u001b[0mself\u001b[0m\u001b[0;34m.\u001b[0m\u001b[0mgvalue\u001b[0m\u001b[0;34m,\u001b[0m \u001b[0mvalue\u001b[0m\u001b[0;34m)\u001b[0m\u001b[0;34m\u001b[0m\u001b[0;34m\u001b[0m\u001b[0m\n\u001b[1;32m    169\u001b[0m         \u001b[0;32melif\u001b[0m \u001b[0mgtype\u001b[0m \u001b[0;34m==\u001b[0m \u001b[0mGValue\u001b[0m\u001b[0;34m.\u001b[0m\u001b[0mgstr_type\u001b[0m\u001b[0;34m:\u001b[0m\u001b[0;34m\u001b[0m\u001b[0;34m\u001b[0m\u001b[0m\n\u001b[0;32m--> 170\u001b[0;31m             \u001b[0mgobject_lib\u001b[0m\u001b[0;34m.\u001b[0m\u001b[0mg_value_set_string\u001b[0m\u001b[0;34m(\u001b[0m\u001b[0mself\u001b[0m\u001b[0;34m.\u001b[0m\u001b[0mgvalue\u001b[0m\u001b[0;34m,\u001b[0m \u001b[0m_to_bytes\u001b[0m\u001b[0;34m(\u001b[0m\u001b[0mvalue\u001b[0m\u001b[0;34m)\u001b[0m\u001b[0;34m)\u001b[0m\u001b[0;34m\u001b[0m\u001b[0;34m\u001b[0m\u001b[0m\n\u001b[0m\u001b[1;32m    171\u001b[0m         \u001b[0;32melif\u001b[0m \u001b[0mgtype\u001b[0m \u001b[0;34m==\u001b[0m \u001b[0mGValue\u001b[0m\u001b[0;34m.\u001b[0m\u001b[0mrefstr_type\u001b[0m\u001b[0;34m:\u001b[0m\u001b[0;34m\u001b[0m\u001b[0;34m\u001b[0m\u001b[0m\n\u001b[1;32m    172\u001b[0m             \u001b[0mvips_lib\u001b[0m\u001b[0;34m.\u001b[0m\u001b[0mvips_value_set_ref_string\u001b[0m\u001b[0;34m(\u001b[0m\u001b[0mself\u001b[0m\u001b[0;34m.\u001b[0m\u001b[0mgvalue\u001b[0m\u001b[0;34m,\u001b[0m \u001b[0m_to_bytes\u001b[0m\u001b[0;34m(\u001b[0m\u001b[0mvalue\u001b[0m\u001b[0;34m)\u001b[0m\u001b[0;34m)\u001b[0m\u001b[0;34m\u001b[0m\u001b[0;34m\u001b[0m\u001b[0m\n",
      "\u001b[0;31mTypeError\u001b[0m: initializer for ctype 'char *' must be a cdata pointer, not _io.BytesIO"
     ]
    }
   ],
   "source": [
    "import datetime\n",
    "import io\n",
    "start = datetime.datetime.now()\n",
    "\n",
    "import glob\n",
    "exps = glob.glob(\n",
    "    '/home/felipe/repos/lsst/lsst_image/data_repo/calexp/00193824-g/R*/calexp*')\n",
    "\n",
    "from astropy.io import fits\n",
    "ccd = fits.open(exps[0], memmap=True)\n",
    "imgccd = ccd[1].data\n",
    "\n",
    "from PIL import Image, ImageOps\n",
    "pil_img=Image.fromarray(imgccd)\n",
    "img_with_border = ImageOps.expand(pil_img,border=25,fill='grey')\n",
    "\n",
    "import pyvips\n",
    "import numpy as np\n",
    "\n",
    "vips=pyvips.Image.new_from_array(np.array(img_with_border).tolist())\n",
    "outputdir='./exps'\n",
    "buf = io.BytesIO()\n",
    "\n",
    "# vips.tiffsave(\"{}/{}.tif\".format(outputdir, 'testB'), tile=True, tile_width=256, tile_height=256, pyramid=True, bigtiff=True, compression='deflate')\n",
    "vips.tiffsave(buf, tile=True, tile_width=256, tile_height=256, pyramid=True, bigtiff=True, compression='deflate')\n",
    "# buf=vips.tiffsave_buffer(tile=True, tile_width=256, tile_height=256, pyramid=True, bigtiff=True, compression='deflate')\n",
    "# buf.seek(0)\n",
    "end = datetime.datetime.now()\n",
    "object_methods = [method_name for method_name in dir(vips)\n",
    "                  if callable(getattr(vips, method_name))]\n",
    "\n",
    "'DONE: {}'.format(str(end-start))\n",
    "vips"
   ]
  },
  {
   "cell_type": "code",
   "execution_count": 10,
   "metadata": {},
   "outputs": [
    {
     "data": {
      "text/plain": [
       "'DONE: 0:00:25.028052'"
      ]
     },
     "execution_count": 10,
     "metadata": {},
     "output_type": "execute_result"
    }
   ],
   "source": [
    "import datetime\n",
    "start = datetime.datetime.now()\n",
    "\n",
    "import glob\n",
    "exps = glob.glob(\n",
    "    '/home/felipe/repos/lsst/lsst_image/data_repo/calexp/00193824-g/R*/calexp*')\n",
    "\n",
    "from astropy.io import fits\n",
    "ccd = fits.open(exps[0], memmap=True)\n",
    "imgccd = ccd[1].data\n",
    "\n",
    "import pyvips\n",
    "import numpy as np\n",
    "vips=pyvips.Image.new_from_array(imgccd.tolist())\n",
    "outputdir='./exps'\n",
    "vips.tiffsave(\"{}/{}.tif\".format(outputdir, 'testWB'), tile=True, tile_width=256, tile_height=256, pyramid=True, bigtiff=True, compression='deflate')\n",
    "\n",
    "end = datetime.datetime.now()\n",
    "'DONE: {}'.format(str(end-start))"
   ]
  },
  {
   "cell_type": "code",
   "execution_count": null,
   "metadata": {},
   "outputs": [],
   "source": []
  }
 ],
 "metadata": {
  "kernelspec": {
   "display_name": "Python 3",
   "language": "python",
   "name": "python3"
  },
  "language_info": {
   "codemirror_mode": {
    "name": "ipython",
    "version": 3
   },
   "file_extension": ".py",
   "mimetype": "text/x-python",
   "name": "python",
   "nbconvert_exporter": "python",
   "pygments_lexer": "ipython3",
   "version": "3.6.8"
  }
 },
 "nbformat": 4,
 "nbformat_minor": 2
}
